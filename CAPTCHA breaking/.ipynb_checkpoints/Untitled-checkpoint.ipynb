{
 "cells": [
  {
   "cell_type": "code",
   "execution_count": 2,
   "metadata": {},
   "outputs": [
    {
     "name": "stderr",
     "output_type": "stream",
     "text": [
      "D:\\Program Files\\Anaconda3\\envs\\py36\\lib\\site-packages\\h5py\\__init__.py:36: FutureWarning: Conversion of the second argument of issubdtype from `float` to `np.floating` is deprecated. In future, it will be treated as `np.float64 == np.dtype(float).type`.\n",
      "  from ._conv import register_converters as _register_converters\n",
      "Using Theano backend.\n",
      "WARNING (theano.configdefaults): g++ not available, if using conda: `conda install m2w64-toolchain`\n",
      "D:\\Program Files\\Anaconda3\\envs\\py36\\lib\\site-packages\\theano\\configdefaults.py:560: UserWarning: DeprecationWarning: there is no c++ compiler.This is deprecated and with Theano 0.11 a c++ compiler will be mandatory\n",
      "  warnings.warn(\"DeprecationWarning: there is no c++ compiler.\"\n",
      "WARNING (theano.configdefaults): g++ not detected ! Theano will be unable to execute optimized C-implementations (for both CPU and GPU) and will default to Python implementations. Performance will be severely degraded. To remove this warning, set Theano flags cxx to an empty string.\n",
      "WARNING (theano.tensor.blas): Using NumPy C-API based implementation for BLAS functions.\n"
     ]
    }
   ],
   "source": [
    "from captcha.image import ImageCaptcha\n",
    "import cv2\n",
    "import random\n",
    "import string\n",
    "from keras.models import *\n",
    "from keras.layers import *\n",
    "from keras import optimizers\n",
    "from keras import losses\n",
    "from keras.models import load_model\n",
    "import glob\n",
    "import matplotlib.pyplot as plt"
   ]
  },
  {
   "cell_type": "code",
   "execution_count": 2,
   "metadata": {},
   "outputs": [],
   "source": [
    "def generate_dataset(environment, n):\n",
    "    image = ImageCaptcha()\n",
    "    for i in range(n):\n",
    "        rnd = ''.join(random.choice(string.ascii_uppercase) for _ in range(4))\n",
    "        rnd += str(i)\n",
    "        image.write(rnd[:4], environment + '_dataset_full/' + rnd + '.png')"
   ]
  },
  {
   "cell_type": "code",
   "execution_count": 21,
   "metadata": {},
   "outputs": [],
   "source": [
    "generate_dataset(\"train\", 5000)"
   ]
  },
  {
   "cell_type": "code",
   "execution_count": 33,
   "metadata": {},
   "outputs": [],
   "source": [
    "generate_dataset(\"test\", 1000)"
   ]
  },
  {
   "cell_type": "code",
   "execution_count": 3,
   "metadata": {},
   "outputs": [],
   "source": [
    "generate_dataset(\"validation\", 1000)"
   ]
  },
  {
   "cell_type": "code",
   "execution_count": 4,
   "metadata": {},
   "outputs": [],
   "source": [
    "def load_dataset(environment):\n",
    "    filenames = glob.glob(environment + \"_dataset_full/*.png\")\n",
    "    x1 = []\n",
    "    x2 = []\n",
    "    x3 = []\n",
    "    x4 = []\n",
    "    y1 = []\n",
    "    y2 = []\n",
    "    y3 = []\n",
    "    y4 = []\n",
    "    for img in filenames:\n",
    "        tmp = cv2.imread(img)\n",
    "        # uzeo samo pocetak slike\n",
    "        p1 = tmp[0:60, 0:69]\n",
    "        p2 = tmp[0:60, 20:89]\n",
    "        p3 = tmp[0:60, 40:109]\n",
    "        p4 = tmp[0:60, 60:129]\n",
    "        x1.append(p1)\n",
    "        x2.append(p2)\n",
    "        x3.append(p3)\n",
    "        x4.append(p4)\n",
    "        q1 = ord(img[len(environment)+14])-65\n",
    "        q2 = ord(img[len(environment)+15])-65\n",
    "        q3 = ord(img[len(environment)+16])-65\n",
    "        q4 = ord(img[len(environment)+17])-65\n",
    "        y1.append(q1)\n",
    "        y2.append(q2)\n",
    "        y3.append(q3)\n",
    "        y4.append(q4)\n",
    "    return np.array(x1), np.array(x2), np.array(x3), np.array(x4), np.array(y1), np.array(y2), np.array(y3), np.array(y4), 26"
   ]
  },
  {
   "cell_type": "code",
   "execution_count": 5,
   "metadata": {},
   "outputs": [],
   "source": [
    "x1_train, x2_train, x3_train, x4_train, y1_train, y2_train, y3_train, y4_train, C = load_dataset(\"train\")"
   ]
  },
  {
   "cell_type": "code",
   "execution_count": 6,
   "metadata": {},
   "outputs": [],
   "source": [
    "x1_test, x2_test, x3_test, x4_test, y1_test, y2_test, y3_test, y4_test, C = load_dataset(\"test\")"
   ]
  },
  {
   "cell_type": "code",
   "execution_count": 7,
   "metadata": {},
   "outputs": [],
   "source": [
    "x1_validation, x2_validation, x3_validation, x4_validation, y1_validation, y2_validation, y3_validation, y4_validation, C = load_dataset(\"validation\")"
   ]
  },
  {
   "cell_type": "code",
   "execution_count": 8,
   "metadata": {},
   "outputs": [],
   "source": [
    "def threshold_data(img_data, threshold):\n",
    "    for i in range(len(img_data)):\n",
    "        for j in range(len(img_data[0])):\n",
    "            for k in range(len(img_data[0][0])):\n",
    "                for l in range(3):\n",
    "                    if img_data[i][j][k][l] > threshold:\n",
    "                        img_data[i][j][k][l] = 0 # black\n",
    "                    else:\n",
    "                        img_data[i][j][k][l] = 255 # max value of channel\n",
    "    return img_data"
   ]
  },
  {
   "cell_type": "code",
   "execution_count": 9,
   "metadata": {},
   "outputs": [],
   "source": [
    "x1_train = threshold_data(x1_train, 150)"
   ]
  },
  {
   "cell_type": "code",
   "execution_count": 10,
   "metadata": {},
   "outputs": [],
   "source": [
    "x2_train = threshold_data(x2_train, 150)"
   ]
  },
  {
   "cell_type": "code",
   "execution_count": 11,
   "metadata": {},
   "outputs": [],
   "source": [
    "x3_train = threshold_data(x3_train, 150)"
   ]
  },
  {
   "cell_type": "code",
   "execution_count": 12,
   "metadata": {},
   "outputs": [],
   "source": [
    "x4_train = threshold_data(x4_train, 150)"
   ]
  },
  {
   "cell_type": "code",
   "execution_count": 13,
   "metadata": {},
   "outputs": [],
   "source": [
    "x1_test = threshold_data(x1_test, 150)"
   ]
  },
  {
   "cell_type": "code",
   "execution_count": 14,
   "metadata": {},
   "outputs": [],
   "source": [
    "x2_test = threshold_data(x2_test, 150)"
   ]
  },
  {
   "cell_type": "code",
   "execution_count": 15,
   "metadata": {},
   "outputs": [],
   "source": [
    "x3_test = threshold_data(x3_test, 150)"
   ]
  },
  {
   "cell_type": "code",
   "execution_count": 16,
   "metadata": {},
   "outputs": [],
   "source": [
    "x4_test = threshold_data(x4_test, 150)"
   ]
  },
  {
   "cell_type": "code",
   "execution_count": 17,
   "metadata": {},
   "outputs": [],
   "source": [
    "x1_validation = threshold_data(x1_validation, 150)"
   ]
  },
  {
   "cell_type": "code",
   "execution_count": 18,
   "metadata": {},
   "outputs": [],
   "source": [
    "x2_validation = threshold_data(x2_validation, 150)"
   ]
  },
  {
   "cell_type": "code",
   "execution_count": 19,
   "metadata": {},
   "outputs": [],
   "source": [
    "x3_validation = threshold_data(x3_validation, 150)"
   ]
  },
  {
   "cell_type": "code",
   "execution_count": 20,
   "metadata": {},
   "outputs": [],
   "source": [
    "x4_validation = threshold_data(x4_validation, 150)"
   ]
  },
  {
   "cell_type": "code",
   "execution_count": 21,
   "metadata": {},
   "outputs": [],
   "source": [
    "def one_hot(y, C):\n",
    "    y_one_hot = np.zeros((y.shape[0], C))\n",
    "    y_one_hot[np.arange(0, y.shape[0]), y] = 1\n",
    "    \n",
    "    return y_one_hot"
   ]
  },
  {
   "cell_type": "code",
   "execution_count": 22,
   "metadata": {},
   "outputs": [],
   "source": [
    "x1_train = x1_train/255\n",
    "x2_train = x2_train/255\n",
    "x3_train = x3_train/255\n",
    "x4_train = x4_train/255"
   ]
  },
  {
   "cell_type": "code",
   "execution_count": 23,
   "metadata": {},
   "outputs": [],
   "source": [
    "x1_test = x1_test/255\n",
    "x2_test = x2_test/255\n",
    "x3_test = x3_test/255\n",
    "x4_test = x4_test/255"
   ]
  },
  {
   "cell_type": "code",
   "execution_count": 24,
   "metadata": {},
   "outputs": [],
   "source": [
    "x1_validation = x1_validation/255\n",
    "x2_validation = x2_validation/255\n",
    "x3_validation = x3_validation/255\n",
    "x4_validation = x4_validation/255"
   ]
  },
  {
   "cell_type": "code",
   "execution_count": 25,
   "metadata": {},
   "outputs": [],
   "source": [
    "y1_train = one_hot(y1_train, C)\n",
    "y2_train = one_hot(y2_train, C)\n",
    "y3_train = one_hot(y3_train, C)\n",
    "y4_train = one_hot(y4_train, C)"
   ]
  },
  {
   "cell_type": "code",
   "execution_count": 26,
   "metadata": {},
   "outputs": [],
   "source": [
    "y1_test = one_hot(y1_test, C)\n",
    "y2_test = one_hot(y2_test, C)\n",
    "y3_test = one_hot(y3_test, C)\n",
    "y4_test = one_hot(y4_test, C)"
   ]
  },
  {
   "cell_type": "code",
   "execution_count": 27,
   "metadata": {},
   "outputs": [],
   "source": [
    "y1_validation = one_hot(y1_validation, C)\n",
    "y2_validation = one_hot(y2_validation, C)\n",
    "y3_validation = one_hot(y3_validation, C)\n",
    "y4_validation = one_hot(y4_validation, C)"
   ]
  },
  {
   "cell_type": "code",
   "execution_count": 28,
   "metadata": {},
   "outputs": [],
   "source": [
    "def build_model(image_shape, c, dropout):\n",
    "    model = Sequential()\n",
    "    model.add(ZeroPadding2D((1,1),input_shape=image_shape))\n",
    "    model.add(Convolution2D(20, 3, 3, activation='relu'))\n",
    "    model.add(MaxPooling2D((2,2), strides=(2,2)))\n",
    "\n",
    "    model.add(ZeroPadding2D((1,1)))\n",
    "    model.add(Convolution2D(40, 3, 3, activation='relu'))\n",
    "    model.add(MaxPooling2D((2,2), strides=(2,2)))\n",
    "\n",
    "    model.add(ZeroPadding2D((1,1)))\n",
    "    model.add(Convolution2D(80, 3, 3, activation='relu'))\n",
    "    model.add(MaxPooling2D((2,2), strides=(2,2)))\n",
    "\n",
    "    model.add(ZeroPadding2D((1,1)))\n",
    "    model.add(Convolution2D(40, 3, 3, activation='relu'))\n",
    "    model.add(MaxPooling2D((2,2), strides=(2,2)))\n",
    "\n",
    "    model.add(Flatten())\n",
    "\n",
    "    model.add(Dense(1000, activation='relu'))\n",
    "    model.add(Dropout(dropout))\n",
    "    model.add(Dense(100, activation='relu'))\n",
    "    model.add(Dropout(dropout))\n",
    "    model.add(Dense(c, activation='softmax'))\n",
    "    \n",
    "    return model"
   ]
  },
  {
   "cell_type": "code",
   "execution_count": 29,
   "metadata": {},
   "outputs": [
    {
     "name": "stderr",
     "output_type": "stream",
     "text": [
      "D:\\ProgramData\\Anaconda2\\envs\\r-tensorflow\\lib\\site-packages\\ipykernel_launcher.py:4: UserWarning: Update your `Conv2D` call to the Keras 2 API: `Conv2D(20, (3, 3), activation=\"relu\")`\n",
      "  after removing the cwd from sys.path.\n",
      "D:\\ProgramData\\Anaconda2\\envs\\r-tensorflow\\lib\\site-packages\\ipykernel_launcher.py:8: UserWarning: Update your `Conv2D` call to the Keras 2 API: `Conv2D(40, (3, 3), activation=\"relu\")`\n",
      "  \n",
      "D:\\ProgramData\\Anaconda2\\envs\\r-tensorflow\\lib\\site-packages\\ipykernel_launcher.py:12: UserWarning: Update your `Conv2D` call to the Keras 2 API: `Conv2D(80, (3, 3), activation=\"relu\")`\n",
      "  if sys.path[0] == '':\n",
      "D:\\ProgramData\\Anaconda2\\envs\\r-tensorflow\\lib\\site-packages\\ipykernel_launcher.py:16: UserWarning: Update your `Conv2D` call to the Keras 2 API: `Conv2D(40, (3, 3), activation=\"relu\")`\n",
      "  app.launch_new_instance()\n",
      "D:\\ProgramData\\Anaconda2\\envs\\r-tensorflow\\lib\\site-packages\\ipykernel_launcher.py:4: UserWarning: Update your `Conv2D` call to the Keras 2 API: `Conv2D(20, (3, 3), activation=\"relu\")`\n",
      "  after removing the cwd from sys.path.\n",
      "D:\\ProgramData\\Anaconda2\\envs\\r-tensorflow\\lib\\site-packages\\ipykernel_launcher.py:8: UserWarning: Update your `Conv2D` call to the Keras 2 API: `Conv2D(40, (3, 3), activation=\"relu\")`\n",
      "  \n",
      "D:\\ProgramData\\Anaconda2\\envs\\r-tensorflow\\lib\\site-packages\\ipykernel_launcher.py:12: UserWarning: Update your `Conv2D` call to the Keras 2 API: `Conv2D(80, (3, 3), activation=\"relu\")`\n",
      "  if sys.path[0] == '':\n",
      "D:\\ProgramData\\Anaconda2\\envs\\r-tensorflow\\lib\\site-packages\\ipykernel_launcher.py:16: UserWarning: Update your `Conv2D` call to the Keras 2 API: `Conv2D(40, (3, 3), activation=\"relu\")`\n",
      "  app.launch_new_instance()\n"
     ]
    },
    {
     "name": "stdout",
     "output_type": "stream",
     "text": [
      "Epoch 1/15\n",
      "5000/5000 [==============================] - 156s 31ms/step - loss: 2.9715 - acc: 0.1246\n",
      "Epoch 2/15\n",
      "5000/5000 [==============================] - 156s 31ms/step - loss: 1.4343 - acc: 0.5482\n",
      "Epoch 3/15\n",
      "5000/5000 [==============================] - 157s 31ms/step - loss: 0.9219 - acc: 0.7178\n",
      "Epoch 4/15\n",
      "5000/5000 [==============================] - 156s 31ms/step - loss: 0.7466 - acc: 0.7706\n",
      "Epoch 5/15\n",
      "5000/5000 [==============================] - 164s 33ms/step - loss: 0.6296 - acc: 0.8052\n",
      "Epoch 6/15\n",
      "5000/5000 [==============================] - 168s 34ms/step - loss: 0.5704 - acc: 0.8260\n",
      "Epoch 7/15\n",
      "5000/5000 [==============================] - 169s 34ms/step - loss: 0.4985 - acc: 0.8448\n",
      "Epoch 8/15\n",
      "5000/5000 [==============================] - 166s 33ms/step - loss: 0.4190 - acc: 0.8712\n",
      "Epoch 9/15\n",
      "5000/5000 [==============================] - 167s 33ms/step - loss: 0.3104 - acc: 0.9058\n",
      "Epoch 10/15\n",
      "5000/5000 [==============================] - 166s 33ms/step - loss: 0.2555 - acc: 0.9208\n",
      "Epoch 11/15\n",
      "5000/5000 [==============================] - 170s 34ms/step - loss: 0.1785 - acc: 0.9458\n",
      "Epoch 12/15\n",
      "5000/5000 [==============================] - 169s 34ms/step - loss: 0.1420 - acc: 0.9566\n",
      "Epoch 13/15\n",
      "5000/5000 [==============================] - 169s 34ms/step - loss: 0.1145 - acc: 0.9640\n",
      "Epoch 14/15\n",
      "5000/5000 [==============================] - 161s 32ms/step - loss: 0.0967 - acc: 0.9720\n",
      "Epoch 15/15\n",
      "5000/5000 [==============================] - 160s 32ms/step - loss: 0.0845 - acc: 0.9736\n",
      "Epoch 1/15\n",
      "5000/5000 [==============================] - 150s 30ms/step - loss: 3.2229 - acc: 0.0616\n",
      "Epoch 2/15\n",
      "5000/5000 [==============================] - 147s 29ms/step - loss: 2.4951 - acc: 0.2452\n",
      "Epoch 3/15\n",
      "5000/5000 [==============================] - 147s 29ms/step - loss: 1.6588 - acc: 0.4862\n",
      "Epoch 4/15\n",
      "5000/5000 [==============================] - 148s 30ms/step - loss: 1.2125 - acc: 0.6184\n",
      "Epoch 5/15\n",
      "5000/5000 [==============================] - 150s 30ms/step - loss: 0.9647 - acc: 0.6942\n",
      "Epoch 6/15\n",
      "5000/5000 [==============================] - 152s 30ms/step - loss: 0.7695 - acc: 0.7598\n",
      "Epoch 7/15\n",
      "5000/5000 [==============================] - 153s 31ms/step - loss: 0.6176 - acc: 0.8062\n",
      "Epoch 8/15\n",
      "5000/5000 [==============================] - 151s 30ms/step - loss: 0.5179 - acc: 0.8370\n",
      "Epoch 9/15\n",
      "5000/5000 [==============================] - 151s 30ms/step - loss: 0.3729 - acc: 0.8806\n",
      "Epoch 10/15\n",
      "5000/5000 [==============================] - 150s 30ms/step - loss: 0.2680 - acc: 0.9150\n",
      "Epoch 11/15\n",
      "5000/5000 [==============================] - 150s 30ms/step - loss: 0.2090 - acc: 0.9338\n",
      "Epoch 12/15\n",
      "5000/5000 [==============================] - 152s 30ms/step - loss: 0.1876 - acc: 0.9396\n",
      "Epoch 13/15\n",
      "5000/5000 [==============================] - 155s 31ms/step - loss: 0.1194 - acc: 0.9622\n",
      "Epoch 14/15\n",
      "5000/5000 [==============================] - 154s 31ms/step - loss: 0.1029 - acc: 0.9698\n",
      "Epoch 15/15\n",
      "5000/5000 [==============================] - 153s 31ms/step - loss: 0.0741 - acc: 0.9764\n",
      "Epoch 1/15\n",
      "5000/5000 [==============================] - 149s 30ms/step - loss: 3.2478 - acc: 0.0482\n",
      "Epoch 2/15\n",
      "5000/5000 [==============================] - 146s 29ms/step - loss: 2.8925 - acc: 0.1520\n",
      "Epoch 3/15\n",
      "5000/5000 [==============================] - 147s 29ms/step - loss: 2.1618 - acc: 0.3396\n",
      "Epoch 4/15\n",
      "5000/5000 [==============================] - 147s 29ms/step - loss: 1.6932 - acc: 0.4728\n",
      "Epoch 5/15\n",
      "5000/5000 [==============================] - 156s 31ms/step - loss: 1.3896 - acc: 0.5618\n",
      "Epoch 6/15\n",
      "5000/5000 [==============================] - 158s 32ms/step - loss: 1.1702 - acc: 0.6320\n",
      "Epoch 7/15\n",
      "5000/5000 [==============================] - 160s 32ms/step - loss: 1.0180 - acc: 0.6810\n",
      "Epoch 8/15\n",
      "5000/5000 [==============================] - 160s 32ms/step - loss: 0.8817 - acc: 0.7302\n",
      "Epoch 9/15\n",
      "5000/5000 [==============================] - 158s 32ms/step - loss: 0.7867 - acc: 0.7550\n",
      "Epoch 10/15\n",
      "5000/5000 [==============================] - 161s 32ms/step - loss: 0.6804 - acc: 0.7838\n",
      "Epoch 11/15\n",
      "5000/5000 [==============================] - 160s 32ms/step - loss: 0.5751 - acc: 0.8190\n",
      "Epoch 12/15\n",
      "5000/5000 [==============================] - 161s 32ms/step - loss: 0.5262 - acc: 0.8380\n",
      "Epoch 13/15\n",
      "5000/5000 [==============================] - 159s 32ms/step - loss: 0.4777 - acc: 0.8496\n",
      "Epoch 14/15\n",
      "5000/5000 [==============================] - 160s 32ms/step - loss: 0.4094 - acc: 0.8688\n",
      "Epoch 15/15\n",
      "5000/5000 [==============================] - 160s 32ms/step - loss: 0.3545 - acc: 0.8850\n",
      "Epoch 1/15\n",
      "5000/5000 [==============================] - 148s 30ms/step - loss: 3.2576 - acc: 0.0464\n",
      "Epoch 2/15\n",
      "5000/5000 [==============================] - 148s 30ms/step - loss: 2.7684 - acc: 0.1812\n",
      "Epoch 3/15\n",
      "5000/5000 [==============================] - 147s 29ms/step - loss: 1.5817 - acc: 0.5092\n",
      "Epoch 4/15\n",
      "5000/5000 [==============================] - 146s 29ms/step - loss: 1.0973 - acc: 0.6546\n",
      "Epoch 5/15\n",
      "5000/5000 [==============================] - 154s 31ms/step - loss: 0.8710 - acc: 0.7282\n",
      "Epoch 6/15\n",
      "5000/5000 [==============================] - 157s 31ms/step - loss: 0.7539 - acc: 0.7584\n",
      "Epoch 7/15\n",
      "5000/5000 [==============================] - 158s 32ms/step - loss: 0.6753 - acc: 0.7938\n",
      "Epoch 8/15\n",
      "5000/5000 [==============================] - 159s 32ms/step - loss: 0.6001 - acc: 0.8104\n",
      "Epoch 9/15\n",
      "5000/5000 [==============================] - 157s 31ms/step - loss: 0.5428 - acc: 0.8340\n",
      "Epoch 10/15\n",
      "5000/5000 [==============================] - 158s 32ms/step - loss: 0.4840 - acc: 0.8482\n",
      "Epoch 11/15\n",
      "5000/5000 [==============================] - 157s 31ms/step - loss: 0.3932 - acc: 0.8818\n",
      "Epoch 12/15\n",
      "5000/5000 [==============================] - 157s 31ms/step - loss: 0.3496 - acc: 0.8892\n",
      "Epoch 13/15\n",
      "5000/5000 [==============================] - 157s 31ms/step - loss: 0.2717 - acc: 0.9110\n",
      "Epoch 14/15\n",
      "5000/5000 [==============================] - 158s 32ms/step - loss: 0.2213 - acc: 0.9326\n",
      "Epoch 15/15\n",
      "5000/5000 [==============================] - 169s 34ms/step - loss: 0.1947 - acc: 0.9392\n",
      "1000/1000 [==============================] - 10s 10ms/step\n",
      "1000/1000 [==============================] - 10s 10ms/step\n",
      "1000/1000 [==============================] - 10s 10ms/step\n",
      "1000/1000 [==============================] - 10s 10ms/step\n"
     ]
    },
    {
     "name": "stderr",
     "output_type": "stream",
     "text": [
      "D:\\ProgramData\\Anaconda2\\envs\\r-tensorflow\\lib\\site-packages\\ipykernel_launcher.py:4: UserWarning: Update your `Conv2D` call to the Keras 2 API: `Conv2D(20, (3, 3), activation=\"relu\")`\n",
      "  after removing the cwd from sys.path.\n",
      "D:\\ProgramData\\Anaconda2\\envs\\r-tensorflow\\lib\\site-packages\\ipykernel_launcher.py:8: UserWarning: Update your `Conv2D` call to the Keras 2 API: `Conv2D(40, (3, 3), activation=\"relu\")`\n",
      "  \n",
      "D:\\ProgramData\\Anaconda2\\envs\\r-tensorflow\\lib\\site-packages\\ipykernel_launcher.py:12: UserWarning: Update your `Conv2D` call to the Keras 2 API: `Conv2D(80, (3, 3), activation=\"relu\")`\n",
      "  if sys.path[0] == '':\n",
      "D:\\ProgramData\\Anaconda2\\envs\\r-tensorflow\\lib\\site-packages\\ipykernel_launcher.py:16: UserWarning: Update your `Conv2D` call to the Keras 2 API: `Conv2D(40, (3, 3), activation=\"relu\")`\n",
      "  app.launch_new_instance()\n"
     ]
    },
    {
     "name": "stdout",
     "output_type": "stream",
     "text": [
      "Epoch 1/15\n",
      "5000/5000 [==============================] - 149s 30ms/step - loss: 2.9545 - acc: 0.1304\n",
      "Epoch 2/15\n",
      "5000/5000 [==============================] - 147s 29ms/step - loss: 1.5801 - acc: 0.4952\n",
      "Epoch 3/15\n",
      "5000/5000 [==============================] - 147s 29ms/step - loss: 1.0291 - acc: 0.6774\n",
      "Epoch 4/15\n",
      "5000/5000 [==============================] - 146s 29ms/step - loss: 0.8308 - acc: 0.7402\n",
      "Epoch 5/15\n",
      "5000/5000 [==============================] - 151s 30ms/step - loss: 0.7184 - acc: 0.7782\n",
      "Epoch 6/15\n",
      "5000/5000 [==============================] - 154s 31ms/step - loss: 0.6261 - acc: 0.8086\n",
      "Epoch 7/15\n",
      "5000/5000 [==============================] - 152s 30ms/step - loss: 0.5660 - acc: 0.8288\n",
      "Epoch 8/15\n",
      "5000/5000 [==============================] - 152s 30ms/step - loss: 0.4875 - acc: 0.8468\n",
      "Epoch 9/15\n",
      "5000/5000 [==============================] - 153s 31ms/step - loss: 0.4437 - acc: 0.8652\n",
      "Epoch 10/15\n",
      "5000/5000 [==============================] - 154s 31ms/step - loss: 0.3722 - acc: 0.8838\n",
      "Epoch 11/15\n",
      "5000/5000 [==============================] - 152s 30ms/step - loss: 0.2992 - acc: 0.9006\n",
      "Epoch 12/15\n",
      "5000/5000 [==============================] - 152s 30ms/step - loss: 0.2598 - acc: 0.9202\n",
      "Epoch 13/15\n",
      "5000/5000 [==============================] - 153s 31ms/step - loss: 0.1876 - acc: 0.9376\n",
      "Epoch 14/15\n",
      "5000/5000 [==============================] - 149s 30ms/step - loss: 0.2100 - acc: 0.9356\n",
      "Epoch 15/15\n",
      "5000/5000 [==============================] - 148s 30ms/step - loss: 0.1465 - acc: 0.9526\n",
      "Epoch 1/15\n",
      "5000/5000 [==============================] - 144s 29ms/step - loss: 3.2595 - acc: 0.0454\n",
      "Epoch 2/15\n",
      "5000/5000 [==============================] - 142s 28ms/step - loss: 3.0734 - acc: 0.1108\n",
      "Epoch 3/15\n",
      "5000/5000 [==============================] - 142s 28ms/step - loss: 2.5422 - acc: 0.2318\n",
      "Epoch 4/15\n",
      "5000/5000 [==============================] - 142s 28ms/step - loss: 2.0101 - acc: 0.3664\n",
      "Epoch 5/15\n",
      "5000/5000 [==============================] - 153s 31ms/step - loss: 1.6437 - acc: 0.4828\n",
      "Epoch 6/15\n",
      "5000/5000 [==============================] - 157s 31ms/step - loss: 1.3919 - acc: 0.5548\n",
      "Epoch 7/15\n",
      "5000/5000 [==============================] - 157s 31ms/step - loss: 1.1836 - acc: 0.6296\n",
      "Epoch 8/15\n",
      "5000/5000 [==============================] - 158s 32ms/step - loss: 1.0277 - acc: 0.6718\n",
      "Epoch 9/15\n",
      "5000/5000 [==============================] - 160s 32ms/step - loss: 0.9112 - acc: 0.7094\n",
      "Epoch 10/15\n",
      "5000/5000 [==============================] - 159s 32ms/step - loss: 0.8461 - acc: 0.7302\n",
      "Epoch 11/15\n",
      "5000/5000 [==============================] - 159s 32ms/step - loss: 0.7158 - acc: 0.7762\n",
      "Epoch 12/15\n",
      "5000/5000 [==============================] - 158s 32ms/step - loss: 0.6526 - acc: 0.7962\n",
      "Epoch 13/15\n",
      "5000/5000 [==============================] - 156s 31ms/step - loss: 0.5775 - acc: 0.8176\n",
      "Epoch 14/15\n",
      "5000/5000 [==============================] - 157s 31ms/step - loss: 0.5154 - acc: 0.8324\n",
      "Epoch 15/15\n",
      "5000/5000 [==============================] - 156s 31ms/step - loss: 0.4408 - acc: 0.8622\n",
      "Epoch 1/15\n",
      "5000/5000 [==============================] - 142s 28ms/step - loss: 3.2602 - acc: 0.0364\n",
      "Epoch 2/15\n",
      "5000/5000 [==============================] - 141s 28ms/step - loss: 3.2586 - acc: 0.0394\n",
      "Epoch 3/15\n",
      "5000/5000 [==============================] - 140s 28ms/step - loss: 3.2587 - acc: 0.0424\n",
      "Epoch 4/15\n",
      "5000/5000 [==============================] - 140s 28ms/step - loss: 3.2578 - acc: 0.0436\n",
      "Epoch 5/15\n",
      "5000/5000 [==============================] - 152s 30ms/step - loss: 3.2456 - acc: 0.0512\n",
      "Epoch 6/15\n",
      "5000/5000 [==============================] - 150s 30ms/step - loss: 3.0119 - acc: 0.1174\n",
      "Epoch 7/15\n",
      "5000/5000 [==============================] - 153s 31ms/step - loss: 2.5477 - acc: 0.2318\n",
      "Epoch 8/15\n",
      "5000/5000 [==============================] - 156s 31ms/step - loss: 2.1284 - acc: 0.3472\n",
      "Epoch 9/15\n",
      "5000/5000 [==============================] - 155s 31ms/step - loss: 1.8298 - acc: 0.4280\n",
      "Epoch 10/15\n",
      "5000/5000 [==============================] - 164s 33ms/step - loss: 1.5954 - acc: 0.5000\n",
      "Epoch 11/15\n",
      "5000/5000 [==============================] - 163s 33ms/step - loss: 1.3739 - acc: 0.5728\n",
      "Epoch 12/15\n",
      "5000/5000 [==============================] - 160s 32ms/step - loss: 1.2251 - acc: 0.6072\n",
      "Epoch 13/15\n",
      "5000/5000 [==============================] - 160s 32ms/step - loss: 1.0926 - acc: 0.6570\n",
      "Epoch 14/15\n",
      "5000/5000 [==============================] - 158s 32ms/step - loss: 0.9960 - acc: 0.6828\n",
      "Epoch 15/15\n",
      "5000/5000 [==============================] - 159s 32ms/step - loss: 0.8906 - acc: 0.7178\n",
      "Epoch 1/15\n",
      "5000/5000 [==============================] - 142s 28ms/step - loss: 3.2589 - acc: 0.0424\n",
      "Epoch 2/15\n",
      "5000/5000 [==============================] - 146s 29ms/step - loss: 2.8595 - acc: 0.1554\n",
      "Epoch 3/15\n",
      "5000/5000 [==============================] - 156s 31ms/step - loss: 1.5777 - acc: 0.4994\n",
      "Epoch 4/15\n",
      "5000/5000 [==============================] - 147s 29ms/step - loss: 1.0763 - acc: 0.6554\n",
      "Epoch 5/15\n",
      "5000/5000 [==============================] - 151s 30ms/step - loss: 0.8438 - acc: 0.7326\n",
      "Epoch 6/15\n",
      "5000/5000 [==============================] - 150s 30ms/step - loss: 0.7255 - acc: 0.7770\n",
      "Epoch 7/15\n",
      "5000/5000 [==============================] - 153s 31ms/step - loss: 0.6349 - acc: 0.8014\n",
      "Epoch 8/15\n",
      "5000/5000 [==============================] - 153s 31ms/step - loss: 0.5540 - acc: 0.8262\n",
      "Epoch 9/15\n",
      "5000/5000 [==============================] - 153s 31ms/step - loss: 0.5155 - acc: 0.8424\n",
      "Epoch 10/15\n",
      "5000/5000 [==============================] - 152s 30ms/step - loss: 0.4667 - acc: 0.8552\n",
      "Epoch 11/15\n",
      "5000/5000 [==============================] - 153s 31ms/step - loss: 0.3447 - acc: 0.8900\n",
      "Epoch 12/15\n",
      "5000/5000 [==============================] - 151s 30ms/step - loss: 0.3054 - acc: 0.9072\n",
      "Epoch 13/15\n",
      "5000/5000 [==============================] - 151s 30ms/step - loss: 0.2374 - acc: 0.9250\n",
      "Epoch 14/15\n",
      "5000/5000 [==============================] - 152s 30ms/step - loss: 0.1819 - acc: 0.9408\n",
      "Epoch 15/15\n",
      "5000/5000 [==============================] - 152s 30ms/step - loss: 0.1506 - acc: 0.9568\n",
      "1000/1000 [==============================] - 10s 10ms/step\n",
      "1000/1000 [==============================] - 10s 10ms/step\n",
      "1000/1000 [==============================] - 10s 10ms/step\n",
      "1000/1000 [==============================] - 10s 10ms/step\n",
      "Epoch 1/15\n",
      "5000/5000 [==============================] - 147s 29ms/step - loss: 3.0827 - acc: 0.1032\n",
      "Epoch 2/15\n",
      "5000/5000 [==============================] - 148s 30ms/step - loss: 1.8266 - acc: 0.4266\n",
      "Epoch 3/15\n",
      "5000/5000 [==============================] - 146s 29ms/step - loss: 1.1338 - acc: 0.6492\n",
      "Epoch 4/15\n",
      "5000/5000 [==============================] - 147s 29ms/step - loss: 0.8769 - acc: 0.7292\n",
      "Epoch 5/15\n",
      "5000/5000 [==============================] - 152s 30ms/step - loss: 0.7491 - acc: 0.7726\n",
      "Epoch 6/15\n",
      "5000/5000 [==============================] - 154s 31ms/step - loss: 0.6796 - acc: 0.7960\n",
      "Epoch 7/15\n",
      "5000/5000 [==============================] - 154s 31ms/step - loss: 0.6032 - acc: 0.8208\n",
      "Epoch 8/15\n",
      "5000/5000 [==============================] - 153s 31ms/step - loss: 0.5549 - acc: 0.8320\n",
      "Epoch 9/15\n",
      "5000/5000 [==============================] - 152s 30ms/step - loss: 0.4798 - acc: 0.8596\n",
      "Epoch 10/15\n",
      "5000/5000 [==============================] - 152s 30ms/step - loss: 0.4404 - acc: 0.8684\n",
      "Epoch 11/15\n",
      "5000/5000 [==============================] - 150s 30ms/step - loss: 0.3851 - acc: 0.8798\n",
      "Epoch 12/15\n",
      "5000/5000 [==============================] - 152s 30ms/step - loss: 0.3116 - acc: 0.9038\n",
      "Epoch 13/15\n",
      "5000/5000 [==============================] - 151s 30ms/step - loss: 0.2626 - acc: 0.9182\n",
      "Epoch 14/15\n",
      "5000/5000 [==============================] - 151s 30ms/step - loss: 0.2021 - acc: 0.9318\n",
      "Epoch 15/15\n",
      "5000/5000 [==============================] - 150s 30ms/step - loss: 0.1940 - acc: 0.9380\n",
      "Epoch 1/15\n",
      "5000/5000 [==============================] - 147s 29ms/step - loss: 3.2587 - acc: 0.0450\n",
      "Epoch 2/15\n",
      "5000/5000 [==============================] - 147s 29ms/step - loss: 2.8263 - acc: 0.1582\n",
      "Epoch 3/15\n",
      "5000/5000 [==============================] - 147s 29ms/step - loss: 2.0465 - acc: 0.3490\n",
      "Epoch 4/15\n",
      "5000/5000 [==============================] - 147s 29ms/step - loss: 1.6128 - acc: 0.4728\n",
      "Epoch 5/15\n",
      "5000/5000 [==============================] - 152s 30ms/step - loss: 1.3474 - acc: 0.5650\n",
      "Epoch 6/15\n",
      "5000/5000 [==============================] - 155s 31ms/step - loss: 1.1315 - acc: 0.6478\n",
      "Epoch 7/15\n",
      "5000/5000 [==============================] - 156s 31ms/step - loss: 1.0406 - acc: 0.6688\n",
      "Epoch 8/15\n",
      "5000/5000 [==============================] - 154s 31ms/step - loss: 0.9097 - acc: 0.7074\n",
      "Epoch 9/15\n",
      "5000/5000 [==============================] - 155s 31ms/step - loss: 0.8257 - acc: 0.7338\n",
      "Epoch 10/15\n",
      "5000/5000 [==============================] - 153s 31ms/step - loss: 0.7399 - acc: 0.7590\n",
      "Epoch 11/15\n",
      "5000/5000 [==============================] - 154s 31ms/step - loss: 0.6620 - acc: 0.7880\n",
      "Epoch 12/15\n",
      "5000/5000 [==============================] - 154s 31ms/step - loss: 0.6133 - acc: 0.8102\n",
      "Epoch 13/15\n",
      "5000/5000 [==============================] - 153s 31ms/step - loss: 0.5097 - acc: 0.8352\n",
      "Epoch 14/15\n",
      "5000/5000 [==============================] - 152s 30ms/step - loss: 0.4389 - acc: 0.8560\n",
      "Epoch 15/15\n",
      "5000/5000 [==============================] - 153s 31ms/step - loss: 0.3862 - acc: 0.8666\n",
      "Epoch 1/15\n",
      "5000/5000 [==============================] - 145s 29ms/step - loss: 3.2608 - acc: 0.0376\n",
      "Epoch 2/15\n",
      "5000/5000 [==============================] - 147s 29ms/step - loss: 3.2580 - acc: 0.0414\n",
      "Epoch 3/15\n",
      "5000/5000 [==============================] - 147s 29ms/step - loss: 2.9994 - acc: 0.1024\n",
      "Epoch 4/15\n",
      "5000/5000 [==============================] - 147s 29ms/step - loss: 2.5176 - acc: 0.2156\n",
      "Epoch 5/15\n",
      "5000/5000 [==============================] - 150s 30ms/step - loss: 2.1821 - acc: 0.3154\n",
      "Epoch 6/15\n",
      "5000/5000 [==============================] - 162s 32ms/step - loss: 1.8956 - acc: 0.4088\n",
      "Epoch 7/15\n",
      "5000/5000 [==============================] - 156s 31ms/step - loss: 1.6276 - acc: 0.4830\n",
      "Epoch 8/15\n",
      "5000/5000 [==============================] - 159s 32ms/step - loss: 1.4028 - acc: 0.5614\n",
      "Epoch 9/15\n",
      "5000/5000 [==============================] - 157s 31ms/step - loss: 1.2528 - acc: 0.5958\n",
      "Epoch 10/15\n",
      "5000/5000 [==============================] - 157s 31ms/step - loss: 1.1464 - acc: 0.6388\n",
      "Epoch 11/15\n",
      "5000/5000 [==============================] - 157s 31ms/step - loss: 1.0377 - acc: 0.6694\n",
      "Epoch 12/15\n",
      "5000/5000 [==============================] - 157s 31ms/step - loss: 0.9237 - acc: 0.7052\n",
      "Epoch 13/15\n",
      "5000/5000 [==============================] - 157s 31ms/step - loss: 0.8250 - acc: 0.7370\n",
      "Epoch 14/15\n",
      "5000/5000 [==============================] - 157s 31ms/step - loss: 0.7481 - acc: 0.7602\n",
      "Epoch 15/15\n",
      "5000/5000 [==============================] - 155s 31ms/step - loss: 0.6717 - acc: 0.7858\n",
      "Epoch 1/15\n",
      "5000/5000 [==============================] - 152s 30ms/step - loss: 3.2599 - acc: 0.0414\n",
      "Epoch 2/15\n",
      "5000/5000 [==============================] - 146s 29ms/step - loss: 3.0038 - acc: 0.1084\n",
      "Epoch 3/15\n",
      "5000/5000 [==============================] - 145s 29ms/step - loss: 1.9099 - acc: 0.3910\n",
      "Epoch 4/15\n",
      "5000/5000 [==============================] - 147s 29ms/step - loss: 1.2213 - acc: 0.6052\n",
      "Epoch 5/15\n",
      "5000/5000 [==============================] - 149s 30ms/step - loss: 0.9850 - acc: 0.6844\n",
      "Epoch 6/15\n",
      "5000/5000 [==============================] - 150s 30ms/step - loss: 0.8296 - acc: 0.7340\n",
      "Epoch 7/15\n",
      "5000/5000 [==============================] - 153s 31ms/step - loss: 0.7382 - acc: 0.7680\n",
      "Epoch 8/15\n",
      "5000/5000 [==============================] - 151s 30ms/step - loss: 0.6680 - acc: 0.7902\n",
      "Epoch 9/15\n",
      "5000/5000 [==============================] - 150s 30ms/step - loss: 0.6058 - acc: 0.8076\n",
      "Epoch 10/15\n",
      "5000/5000 [==============================] - 152s 30ms/step - loss: 0.5658 - acc: 0.8220\n",
      "Epoch 11/15\n",
      "5000/5000 [==============================] - 150s 30ms/step - loss: 0.4816 - acc: 0.8520\n",
      "Epoch 12/15\n",
      "5000/5000 [==============================] - 147s 29ms/step - loss: 0.3967 - acc: 0.8740\n",
      "Epoch 13/15\n",
      "5000/5000 [==============================] - 148s 30ms/step - loss: 0.3488 - acc: 0.8848\n",
      "Epoch 14/15\n",
      "5000/5000 [==============================] - 146s 29ms/step - loss: 0.2937 - acc: 0.9022\n",
      "Epoch 15/15\n",
      "5000/5000 [==============================] - 147s 29ms/step - loss: 0.2515 - acc: 0.9202\n",
      "1000/1000 [==============================] - 9s 9ms/step\n",
      "1000/1000 [==============================] - 9s 9ms/step\n",
      "1000/1000 [==============================] - 10s 10ms/step\n",
      "1000/1000 [==============================] - 10s 10ms/step\n"
     ]
    }
   ],
   "source": [
    "all_histories = {}\n",
    "all_histories[\"history1\"] = []\n",
    "all_histories[\"history2\"] = []\n",
    "all_histories[\"history3\"] = []\n",
    "all_histories[\"history4\"] = []\n",
    "all_accuracies = {}\n",
    "all_accuracies[\"acc1\"] = []\n",
    "all_accuracies[\"acc2\"] = []\n",
    "all_accuracies[\"acc3\"] = []\n",
    "all_accuracies[\"acc4\"] = []\n",
    "all_models = {}\n",
    "all_models[\"model1\"] = []\n",
    "all_models[\"model2\"] = []\n",
    "all_models[\"model3\"] = []\n",
    "all_models[\"model4\"] = []\n",
    "for dropout in [0.1, 0.2, 0.3]:\n",
    "    model1 = build_model(x1_train[0].shape, C, dropout)\n",
    "    model2 = build_model(x2_train[0].shape, C, dropout)\n",
    "    model3 = build_model(x3_train[0].shape, C, dropout)\n",
    "    model4 = build_model(x4_train[0].shape, C, dropout)\n",
    "    \n",
    "    model1.compile(loss=losses.categorical_crossentropy, optimizer='adam', metrics=['accuracy'])\n",
    "    model2.compile(loss=losses.categorical_crossentropy, optimizer='adam', metrics=['accuracy'])\n",
    "    model3.compile(loss=losses.categorical_crossentropy, optimizer='adam', metrics=['accuracy'])\n",
    "    model4.compile(loss=losses.categorical_crossentropy, optimizer='adam', metrics=['accuracy'])\n",
    "    \n",
    "    history1 = model1.fit(x1_train, y1_train, verbose=1, epochs=15, batch_size=32, shuffle=True)\n",
    "    history2 = model2.fit(x2_train, y2_train, verbose=1, epochs=15, batch_size=32, shuffle=True)\n",
    "    history3 = model3.fit(x3_train, y3_train, verbose=1, epochs=15, batch_size=32, shuffle=True)\n",
    "    history4 = model4.fit(x4_train, y4_train, verbose=1, epochs=15, batch_size=32, shuffle=True)\n",
    "    all_histories[\"history1\"].append(history1)\n",
    "    all_histories[\"history2\"].append(history2)\n",
    "    all_histories[\"history3\"].append(history3)\n",
    "    all_histories[\"history4\"].append(history4)\n",
    "    \n",
    "    acc1 = model1.evaluate(x1_validation, y1_validation)\n",
    "    acc2 = model2.evaluate(x2_validation, y2_validation)\n",
    "    acc3 = model3.evaluate(x3_validation, y3_validation)\n",
    "    acc4 = model4.evaluate(x4_validation, y4_validation)\n",
    "    all_accuracies[\"acc1\"].append(acc1)\n",
    "    all_accuracies[\"acc2\"].append(acc2)\n",
    "    all_accuracies[\"acc3\"].append(acc3)\n",
    "    all_accuracies[\"acc4\"].append(acc4)\n",
    "    \n",
    "    all_models[\"model1\"].append(model1)\n",
    "    all_models[\"model2\"].append(model2)\n",
    "    all_models[\"model3\"].append(model3)\n",
    "    all_models[\"model4\"].append(model4)"
   ]
  },
  {
   "cell_type": "code",
   "execution_count": 30,
   "metadata": {},
   "outputs": [],
   "source": [
    "max1 = 0\n",
    "max2 = 0\n",
    "max3 = 0\n",
    "max4 = 0\n",
    "for i in range(1, 3):\n",
    "    if all_accuracies[\"acc1\"][max1][1] < all_accuracies[\"acc1\"][i][1]:\n",
    "        max1 = i\n",
    "    if all_accuracies[\"acc2\"][max1][1] < all_accuracies[\"acc2\"][i][1]:\n",
    "        max2 = i\n",
    "    if all_accuracies[\"acc3\"][max1][1] < all_accuracies[\"acc3\"][i][1]:\n",
    "        max3 = i\n",
    "    if all_accuracies[\"acc4\"][max1][1] < all_accuracies[\"acc4\"][i][1]:\n",
    "        max4 = i"
   ]
  },
  {
   "cell_type": "code",
   "execution_count": 31,
   "metadata": {},
   "outputs": [],
   "source": [
    "model1 = all_models[\"model1\"][max1]\n",
    "model2 = all_models[\"model2\"][max2]\n",
    "model3 = all_models[\"model3\"][max3]\n",
    "model4 = all_models[\"model4\"][max4]"
   ]
  },
  {
   "cell_type": "code",
   "execution_count": 32,
   "metadata": {},
   "outputs": [
    {
     "name": "stdout",
     "output_type": "stream",
     "text": [
      "1000/1000 [==============================] - 10s 10ms/step\n",
      "1000/1000 [==============================] - 9s 9ms/step\n",
      "1000/1000 [==============================] - 9s 9ms/step\n",
      "1000/1000 [==============================] - 9s 9ms/step\n"
     ]
    },
    {
     "data": {
      "text/plain": [
       "[1.3663814659118652, 0.755]"
      ]
     },
     "execution_count": 32,
     "metadata": {},
     "output_type": "execute_result"
    }
   ],
   "source": [
    "model1.evaluate(x1_test, y1_test)\n",
    "model2.evaluate(x2_test, y2_test)\n",
    "model3.evaluate(x3_test, y3_test)\n",
    "model4.evaluate(x4_test, y4_test)"
   ]
  },
  {
   "cell_type": "code",
   "execution_count": 40,
   "metadata": {},
   "outputs": [
    {
     "name": "stdout",
     "output_type": "stream",
     "text": [
      "1000/1000 [==============================] - 10s 10ms/step\n"
     ]
    },
    {
     "data": {
      "text/plain": [
       "[1.3663814659118652, 0.755]"
      ]
     },
     "execution_count": 40,
     "metadata": {},
     "output_type": "execute_result"
    }
   ],
   "source": [
    "model4.evaluate(x4_test, y4_test)"
   ]
  },
  {
   "cell_type": "code",
   "execution_count": 42,
   "metadata": {},
   "outputs": [],
   "source": [
    "def test_captcha(text, model1, model2, model3, model4):\n",
    "    if len(text) != 4:\n",
    "        return 'Length of text must be 4'\n",
    "    image = ImageCaptcha()\n",
    "    image.write(text, 'out.png')\n",
    "    y1 = text[0]\n",
    "    y2 = text[1]\n",
    "    y3 = text[2]\n",
    "    y4 = text[3]\n",
    "    tmp = cv2.imread('out.png')\n",
    "    x1 = threshold_data(np.array([tmp[0:60, 0:69]]), 150) / 255\n",
    "    x2 = threshold_data(np.array([tmp[0:60, 20:89]]), 150) / 255\n",
    "    x3 = threshold_data(np.array([tmp[0:60, 40:109]]), 150) / 255\n",
    "    x4 = threshold_data(np.array([tmp[0:60, 60:129]]), 150) / 255\n",
    "    y1_predicted = np.argmax(model1.predict(x1, verbose=1))\n",
    "    y2_predicted = np.argmax(model2.predict(x2, verbose=1))\n",
    "    y3_predicted = np.argmax(model3.predict(x3, verbose=1))\n",
    "    y4_predicted = np.argmax(model4.predict(x4, verbose=1))\n",
    "    print(\"Predicted: \" + chr(y1_predicted+65) + chr(y2_predicted+65) + chr(y3_predicted+65) + chr(y4_predicted+65))"
   ]
  },
  {
   "cell_type": "code",
   "execution_count": 41,
   "metadata": {},
   "outputs": [],
   "source": [
    "model1.save('captcha1.h5')\n",
    "model2.save('captcha2.h5')\n",
    "model3.save('captcha3.h5')\n",
    "model4.save('captcha4.h5')"
   ]
  },
  {
   "cell_type": "code",
   "execution_count": 58,
   "metadata": {},
   "outputs": [
    {
     "name": "stdout",
     "output_type": "stream",
     "text": [
      "1/1 [==============================] - 0s 0us/step\n",
      "1/1 [==============================] - 0s 16ms/step\n",
      "1/1 [==============================] - 0s 62ms/step\n",
      "1/1 [==============================] - 0s 16ms/step\n",
      "Predicted: YEAH\n"
     ]
    }
   ],
   "source": [
    "test_captcha('YEAH', model1, model2, model3, model4)"
   ]
  },
  {
   "cell_type": "code",
   "execution_count": 3,
   "metadata": {},
   "outputs": [],
   "source": [
    "model1 = load_model('captcha1.h5')\n",
    "model2 = load_model('captcha2.h5')\n",
    "model3 = load_model('captcha3.h5')\n",
    "model4 = load_model('captcha4.h5')"
   ]
  },
  {
   "cell_type": "code",
   "execution_count": 3,
   "metadata": {},
   "outputs": [
    {
     "data": {
      "image/png": "[encoded data removed]",
      "text/plain": [
       "<Figure size 1080x720 with 1 Axes>"
      ]
     },
     "metadata": {},
     "output_type": "display_data"
    }
   ],
   "source": [
    "# ---Iscrtavanje grafika zavisnosti između preciznosti modela na skupu za obučavanje i vrednosti dropout parametra---\n",
    "#Pošto nisu ostale sačuvane preciznosti svakog modela na test skupu (od tri modela sa različitim dropout parametrom ostaje sačuvan samo onaj najbolji na validacionom skupu)\n",
    "#, za potrebe crtanja grafika korišćene su preciznosti dobijene iz loga prilikom treniranja modela\n",
    "\n",
    "plt.figure(figsize=(15,10))\n",
    "dropouts = [0.1, 0.2, 0.3]\n",
    "accuracies1 = [0.9736, 0.9526, 0.9380]\n",
    "accuracies2 = [0.9764, 0.8622, 0.8666]\n",
    "accuracies3 = [0.8850, 0.7178, 0.7858]\n",
    "accuracies4 = [0.9392, 0.9568, 0.9202]\n",
    "plt.plot(dropouts, accuracies1)\n",
    "plt.plot(dropouts, accuracies2)\n",
    "plt.plot(dropouts, accuracies3)\n",
    "plt.plot(dropouts, accuracies4)\n",
    "plt.xlabel(\"Dropout\")\n",
    "plt.ylabel(\"Accuracy\")\n",
    "plt.gca().legend((\"1st letter\", \"2nd letter\", \"3rd letter\", \"4th letter\"))\n",
    "plt.xticks(np.arange(0.1, 0.35, 0.1))\n",
    "plt.yticks(np.arange(0.7, 1, 0.05))\n",
    "\n",
    "plt.show()"
   ]
  },
  {
   "cell_type": "code",
   "execution_count": null,
   "metadata": {},
   "outputs": [],
   "source": []
  }
 ],
 "metadata": {
  "kernelspec": {
   "display_name": "Python 3",
   "language": "python",
   "name": "python3"
  },
  "language_info": {
   "codemirror_mode": {
    "name": "ipython",
    "version": 3
   },
   "file_extension": ".py",
   "mimetype": "text/x-python",
   "name": "python",
   "nbconvert_exporter": "python",
   "pygments_lexer": "ipython3",
   "version": "3.6.5"
  }
 },
 "nbformat": 4,
 "nbformat_minor": 2
}
